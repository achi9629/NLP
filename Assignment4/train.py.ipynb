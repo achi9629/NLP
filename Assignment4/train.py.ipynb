{
 "cells": [
  {
   "cell_type": "code",
   "execution_count": 1,
   "id": "365023d4",
   "metadata": {},
   "outputs": [],
   "source": [
    "#%% \n",
    "import warnings\n",
    "warnings.filterwarnings('ignore')\n",
    "\n",
    "import pickle\n",
    "import os\n",
    "import numpy as np\n",
    "import matplotlib.pyplot as plt\n",
    "from datetime import datetime\n",
    "from sklearn.model_selection import train_test_split\n",
    "from sklearn.metrics import f1_score, confusion_matrix\n",
    "import torch\n",
    "from torch.utils.data import Dataset, DataLoader\n",
    "import torch.nn as nn\n",
    "import torch.nn.functional as F\n",
    "from preprocess import preprocess\n",
    "from collections import Counter\n",
    "import seaborn as sns\n",
    "import pandas as pd\n",
    "\n",
    "os.environ[ 'MPLCONFIGDIR' ] = './tmp/'\n",
    "os.environ[\"CUDA_DEVICE_ORDER\"]=\"PCI_BUS_ID\"  \n",
    "os.environ[\"CUDA_VISIBLE_DEVICES\"]=\"0\"\n",
    "\n",
    "batch_size = 64 \n",
    "lr = 0.01\n",
    "epochs = 20\n",
    "# torch.manual_seed(42)\n",
    "device = torch.device('cuda' if torch.cuda.is_available() else 'cpu')"
   ]
  },
  {
   "cell_type": "code",
   "execution_count": 2,
   "id": "ac9de28d",
   "metadata": {},
   "outputs": [],
   "source": [
    "class data(Dataset):\n",
    "    def __init__(self, x, y):\n",
    "        self.x = torch.from_numpy(x)\n",
    "        self.y = torch.from_numpy(y)\n",
    "        self.n_samples = self.x.shape[0]\n",
    "        \n",
    "    def __getitem__(self, index):\n",
    "        return self.x[index], self.y[index]\n",
    "    \n",
    "    def __len__(self):\n",
    "        return self.n_samples"
   ]
  },
  {
   "cell_type": "code",
   "execution_count": 3,
   "id": "8868092a",
   "metadata": {},
   "outputs": [],
   "source": [
    "class C_LSTM(nn.Module):\n",
    "    def __init__(self, embedding_dim=300, n_filters=150, filter_size=3, bidirectional=True,\n",
    "                 hidden_dim=150 , output_dim=5, dropout=0.5):\n",
    "        super().__init__()\n",
    "        self.hidden_dim = hidden_dim\n",
    "        self.conv = nn.Conv2d(in_channels=1, out_channels=150, kernel_size=(3,300))\n",
    "        self.lstm = nn.LSTM(150, 150, bidirectional=False, dropout=0.5)\n",
    "        self.projection = nn.Sequential(nn.Linear(150, 64), nn.ReLU(True), nn.Linear(64, 1))\n",
    "        self.linear = nn.Linear(150, 5)\n",
    "            \n",
    "    def forward(self, x):  \n",
    "        q = x.unsqueeze(1)\n",
    "        r = F.relu(self.conv(q)).squeeze(3)\n",
    "        x = r.permute(2, 0, 1)\n",
    "        output, (_,_) = self.lstm(x)\n",
    "        o = output.permute(1, 0, 2)\n",
    "        eij = self.projection(o)\n",
    "        alphas = F.softmax(eij.squeeze(-1), dim=1)\n",
    "        weights = alphas.unsqueeze(-1)\n",
    "        outputs = (o * weights).sum(dim=1)\n",
    "        out = self.linear(outputs)\n",
    "        final = F.softmax(out, dim=1)\n",
    "        return final"
   ]
  },
  {
   "cell_type": "code",
   "execution_count": 4,
   "id": "8a956dd5",
   "metadata": {},
   "outputs": [],
   "source": [
    "train_path = \"TrainData.csv\"\n",
    "test_path = 'TestData_Inputs.csv'"
   ]
  },
  {
   "cell_type": "code",
   "execution_count": 5,
   "id": "b85e3db9",
   "metadata": {},
   "outputs": [
    {
     "name": "stdout",
     "output_type": "stream",
     "text": [
      "735 <class 'list'> 1490\n"
     ]
    }
   ],
   "source": [
    "X,Y = preprocess(train_path)\n",
    "X_test,y_test = preprocess(test_path)\n",
    "\n",
    "#96754 word2vec\n",
    "#8968 fasttext\n",
    "#1107 glove\n",
    "#593934 total\n",
    "print(len(X_test), type(Y), len(Y))"
   ]
  },
  {
   "cell_type": "code",
   "execution_count": 6,
   "id": "65a143a9",
   "metadata": {},
   "outputs": [],
   "source": [
    "with open('glove.pickle', 'rb') as handle:\n",
    "    glove_dict = pickle.load(handle)"
   ]
  },
  {
   "cell_type": "code",
   "execution_count": 7,
   "id": "e913cc52",
   "metadata": {},
   "outputs": [
    {
     "name": "stdout",
     "output_type": "stream",
     "text": [
      "Mean :  400.59060402684565\n",
      "Median :  351.5\n",
      "Max :  3438\n"
     ]
    },
    {
     "data": {
      "image/png": "[encoded data removed]",
      "text/plain": [
       "<Figure size 432x288 with 1 Axes>"
      ]
     },
     "metadata": {
      "needs_background": "light"
     },
     "output_type": "display_data"
    }
   ],
   "source": [
    "length = []\n",
    "for sentence in X:\n",
    "    length.append(len(sentence))\n",
    "    \n",
    "print('Mean : ', np.mean(length))\n",
    "print('Median : ',np.median(length))\n",
    "print('Max : ', max(length))\n",
    "\n",
    "plt.hist(length)\n",
    "plt.show() "
   ]
  },
  {
   "cell_type": "code",
   "execution_count": 8,
   "id": "9017c106",
   "metadata": {},
   "outputs": [
    {
     "name": "stdout",
     "output_type": "stream",
     "text": [
      "Sentences greater than word limit 800 are 53, lesser than word limit 800 are 1437\n"
     ]
    }
   ],
   "source": [
    "lesser = 0\n",
    "greater= 0\n",
    "word_limit = 800\n",
    "\n",
    "for i in length:\n",
    "    if i<=word_limit:\n",
    "        lesser+=1\n",
    "    else:\n",
    "        greater+=1\n",
    "print(f'Sentences greater than word limit {word_limit} are {greater}, lesser than word limit {word_limit} are {lesser}')"
   ]
  },
  {
   "cell_type": "code",
   "execution_count": 9,
   "id": "7357f32c",
   "metadata": {},
   "outputs": [
    {
     "name": "stdout",
     "output_type": "stream",
     "text": [
      "(1490, 800, 300) (1490,)\n"
     ]
    }
   ],
   "source": [
    "np.random.seed(5)\n",
    "PAD = np.random.normal(loc=0.0, scale=0.25, size=(300))\n",
    "categories = ['politics', 'tech', 'sport', 'business', 'entertainment']\n",
    "train_X_vec = []\n",
    "train_y_vec = []\n",
    "for idx, para in enumerate(X):\n",
    "    para_vec = []\n",
    "    for i in range(word_limit):\n",
    "        try:\n",
    "            word = para[i]\n",
    "            try:\n",
    "                para_vec.append(glove_dict[word])\n",
    "            except KeyError:\n",
    "                continue\n",
    "        except IndexError:\n",
    "            para_vec.append(PAD)\n",
    "    \n",
    "    for i in range(word_limit-len(para_vec)):\n",
    "        para_vec.append(PAD)\n",
    "        \n",
    "    train_X_vec.append(para_vec)\n",
    "    train_y_vec.append(categories.index(Y[idx]))\n",
    "\n",
    "train_X_vec = np.asarray(train_X_vec, dtype=np.float32)\n",
    "train_y_vec = np.asarray(train_y_vec)\n",
    "print(train_X_vec.shape, train_y_vec.shape)"
   ]
  },
  {
   "cell_type": "code",
   "execution_count": 10,
   "id": "f99acfdb",
   "metadata": {},
   "outputs": [
    {
     "name": "stdout",
     "output_type": "stream",
     "text": [
      "(735, 800, 300) (735,)\n"
     ]
    }
   ],
   "source": [
    "X_test_vec = []\n",
    "Y_test_vec = []\n",
    "for idx, sample in enumerate(X_test):\n",
    "    sentence = []\n",
    "    for i in range(word_limit):\n",
    "        try:\n",
    "            word = sample[i]\n",
    "            try:\n",
    "                sentence.append(glove_dict[word])\n",
    "            except KeyError:\n",
    "                continue\n",
    "        except IndexError:\n",
    "            sentence.append(PAD)\n",
    "    \n",
    "    for i in range(word_limit-len(sentence)):\n",
    "        sentence.append(PAD)\n",
    "        \n",
    "    X_test_vec.append(sentence)\n",
    "    Y_test_vec.append(categories.index(y_test[idx]))\n",
    "    \n",
    "X_test_vec = np.asarray(X_test_vec, dtype=np.float32)\n",
    "Y_test_vec = np.asarray(Y_test_vec)\n",
    "print(X_test_vec.shape, Y_test_vec.shape)\n",
    "index = np.arange(len(Y_test_vec))\n",
    "for i in range(10): np.random.permutation(index)\n",
    "Y_test_vec = Y_test_vec[index]"
   ]
  },
  {
   "cell_type": "code",
   "execution_count": 25,
   "id": "7354d8be",
   "metadata": {},
   "outputs": [],
   "source": [
    "X_Train, X_val, Y_train, Y_val = train_test_split(train_X_vec, train_y_vec, test_size = 0.2, shuffle = True)"
   ]
  },
  {
   "cell_type": "code",
   "execution_count": 26,
   "id": "c936cf43",
   "metadata": {},
   "outputs": [
    {
     "data": {
      "text/plain": [
       "<AxesSubplot:ylabel='count'>"
      ]
     },
     "execution_count": 26,
     "metadata": {},
     "output_type": "execute_result"
    },
    {
     "data": {
      "image/png": "[encoded data removed]",
      "text/plain": [
       "<Figure size 432x288 with 1 Axes>"
      ]
     },
     "metadata": {
      "needs_background": "light"
     },
     "output_type": "display_data"
    }
   ],
   "source": [
    "sns.countplot(Y_train)"
   ]
  },
  {
   "cell_type": "code",
   "execution_count": 27,
   "id": "4f41d1d9",
   "metadata": {},
   "outputs": [
    {
     "data": {
      "text/plain": [
       "<AxesSubplot:ylabel='count'>"
      ]
     },
     "execution_count": 27,
     "metadata": {},
     "output_type": "execute_result"
    },
    {
     "data": {
      "image/png": "[encoded data removed]",
      "text/plain": [
       "<Figure size 432x288 with 1 Axes>"
      ]
     },
     "metadata": {
      "needs_background": "light"
     },
     "output_type": "display_data"
    }
   ],
   "source": [
    "sns.countplot(Y_val)"
   ]
  },
  {
   "cell_type": "code",
   "execution_count": 28,
   "id": "c40bcc09",
   "metadata": {},
   "outputs": [
    {
     "name": "stdout",
     "output_type": "stream",
     "text": [
      "(1192, 800, 300) (1192,)\n"
     ]
    }
   ],
   "source": [
    "train_dataset = data(X_Train, Y_train)\n",
    "train_DataLoader = DataLoader(dataset=train_dataset, shuffle=True, batch_size = batch_size,)\n",
    "\n",
    "valid_dataset = data(X_val, Y_val)\n",
    "valid_DataLoader = DataLoader(dataset=valid_dataset, shuffle=True, batch_size = X_val.shape[0])\n",
    "\n",
    "test_dataset = data(X_test_vec, Y_test_vec)\n",
    "test_DataLoader = DataLoader(dataset=test_dataset, shuffle=False, batch_size = 735)\n",
    "print(X_Train.shape, Y_train.shape)"
   ]
  },
  {
   "cell_type": "code",
   "execution_count": 29,
   "id": "644cd679",
   "metadata": {},
   "outputs": [],
   "source": [
    "def train_epoch(model,device,dataloader,loss,optimizer):\n",
    "    train_loss = 0.0\n",
    "    model.train()\n",
    "    for (inputs, labels) in dataloader:\n",
    "\n",
    "        inputs = inputs.to(device)\n",
    "        labels = labels.to(device)\n",
    "          \n",
    "        output = model(inputs)\n",
    "        l = loss(output,labels)\n",
    "        \n",
    "        l.backward()\n",
    "        optimizer.step()\n",
    "        optimizer.zero_grad()\n",
    "        \n",
    "        train_loss += l.item()\n",
    "\n",
    "    return (train_loss)"
   ]
  },
  {
   "cell_type": "code",
   "execution_count": 30,
   "id": "4a21380c",
   "metadata": {},
   "outputs": [],
   "source": [
    "def valid_epoch(model,device,dataloader,loss):\n",
    "    valid_loss, val_correct = 0.0, 0\n",
    "    model.eval()\n",
    "    with torch.no_grad():\n",
    "        for (inputs, labels) in dataloader:\n",
    "\n",
    "            inputs = inputs.to(device)\n",
    "            labels = labels.to(device)\n",
    "\n",
    "            output = model(inputs)\n",
    "\n",
    "            l=loss(output,labels)\n",
    "\n",
    "        _, predictions = torch.max(output.data,1)\n",
    "        score = f1_score(labels.cpu().data.numpy(), predictions.cpu().data.numpy(), average='micro')\n",
    "        \n",
    "        confusion_mtx = confusion_matrix(labels.cpu().data.numpy(), predictions.cpu().data.numpy(), normalize='true')\n",
    "        df_cm = pd.DataFrame(confusion_mtx, index = categories, columns = categories)\n",
    "        plt.figure(figsize = (20,7))\n",
    "        sns.heatmap(df_cm, annot=True, cmap=\"YlGnBu\")\n",
    "            \n",
    "\n",
    "        return (l/len(labels)).cpu().detach().numpy(),score"
   ]
  },
  {
   "cell_type": "code",
   "execution_count": 31,
   "id": "fc9ac670",
   "metadata": {},
   "outputs": [],
   "source": [
    "model = C_LSTM().to(device)\n",
    "loss = nn.CrossEntropyLoss().to(device)\n",
    "optimizer = torch.optim.Adam(model.parameters(), lr = lr)"
   ]
  },
  {
   "cell_type": "code",
   "execution_count": 61,
   "id": "f329a57c",
   "metadata": {},
   "outputs": [
    {
     "name": "stdout",
     "output_type": "stream",
     "text": [
      "time: 0:00:01.786491 epoch=1/20, train loss=0.023505, val loss 0.004487, f: 0.546980\n",
      "time: 0:00:01.768832 epoch=2/20, train loss=0.018221, val loss 0.003678, f: 0.848993\n",
      "time: 0:00:01.761226 epoch=3/20, train loss=0.016028, val loss 0.003465, f: 0.865772\n",
      "time: 0:00:01.765043 epoch=4/20, train loss=0.015413, val loss 0.003208, f: 0.953020\n",
      "time: 0:00:01.779152 epoch=5/20, train loss=0.014943, val loss 0.003218, f: 0.946309\n",
      "time: 0:00:01.760495 epoch=6/20, train loss=0.014984, val loss 0.003171, f: 0.959732\n",
      "time: 0:00:01.771934 epoch=7/20, train loss=0.014655, val loss 0.003099, f: 0.986577\n",
      "time: 0:00:01.767998 epoch=8/20, train loss=0.014622, val loss 0.003128, f: 0.973154\n",
      "time: 0:00:01.759222 epoch=9/20, train loss=0.014542, val loss 0.003085, f: 0.986577\n",
      "time: 0:00:01.769696 epoch=10/20, train loss=0.014467, val loss 0.003097, f: 0.979866\n",
      "time: 0:00:01.769538 epoch=11/20, train loss=0.014449, val loss 0.003075, f: 0.989933\n",
      "time: 0:00:01.767016 epoch=12/20, train loss=0.014487, val loss 0.003090, f: 0.986577\n",
      "time: 0:00:01.781046 epoch=13/20, train loss=0.014451, val loss 0.003077, f: 0.986577\n",
      "time: 0:00:01.767510 epoch=14/20, train loss=0.014451, val loss 0.003087, f: 0.986577\n",
      "time: 0:00:01.781053 epoch=15/20, train loss=0.014455, val loss 0.003066, f: 0.993289\n",
      "time: 0:00:01.767738 epoch=16/20, train loss=0.014440, val loss 0.003057, f: 0.996644\n",
      "time: 0:00:01.799240 epoch=17/20, train loss=0.014426, val loss 0.003051, f: 0.996644\n",
      "time: 0:00:01.773177 epoch=18/20, train loss=0.014424, val loss 0.003052, f: 0.996644\n",
      "time: 0:00:01.820932 epoch=19/20, train loss=0.014424, val loss 0.003052, f: 0.996644\n",
      "time: 0:00:01.815522 epoch=20/20, train loss=0.014423, val loss 0.003052, f: 0.996644\n"
     ]
    }
   ],
   "source": [
    "acc_list = []\n",
    "loss_list = []\n",
    "for epoch in range(epochs):\n",
    "    epochs_loss = 0\n",
    "    t0 = datetime.now()\n",
    "    \n",
    "    epochs_loss = train_epoch(model,device,train_DataLoader,loss,optimizer)\n",
    "    \n",
    "    l,score = valid_epoch(model,device,valid_DataLoader,loss)\n",
    "    \n",
    "    print(f'time: {datetime.now() - t0} epoch={epoch+1}/{epochs}, train loss={epochs_loss/len(X_Train):.6f}, val loss {l:.6f}, f: {score:.6f}')\n",
    "    loss_list.append((epochs_loss/len(X_Train)))\n",
    "    acc_list.append(score)\n",
    "    \n",
    "\n"
   ]
  },
  {
   "cell_type": "code",
   "execution_count": 64,
   "id": "ea4bd1b8",
   "metadata": {},
   "outputs": [
    {
     "data": {
      "image/png": "[encoded data removed]",
      "text/plain": [
       "<Figure size 432x288 with 1 Axes>"
      ]
     },
     "metadata": {
      "needs_background": "light"
     },
     "output_type": "display_data"
    },
    {
     "data": {
      "image/png": "[encoded data removed]",
      "text/plain": [
       "<Figure size 432x288 with 1 Axes>"
      ]
     },
     "metadata": {
      "needs_background": "light"
     },
     "output_type": "display_data"
    }
   ],
   "source": [
    "plt.plot(acc_list)\n",
    "plt.show()\n",
    "plt.plot(loss_list)\n",
    "plt.show()"
   ]
  },
  {
   "cell_type": "code",
   "execution_count": 32,
   "id": "17d80561",
   "metadata": {},
   "outputs": [
    {
     "data": {
      "text/plain": [
       "C_LSTM(\n",
       "  (conv): Conv2d(1, 150, kernel_size=(3, 300), stride=(1, 1))\n",
       "  (lstm): LSTM(150, 150, dropout=0.5)\n",
       "  (projection): Sequential(\n",
       "    (0): Linear(in_features=150, out_features=64, bias=True)\n",
       "    (1): ReLU(inplace=True)\n",
       "    (2): Linear(in_features=64, out_features=1, bias=True)\n",
       "  )\n",
       "  (linear): Linear(in_features=150, out_features=5, bias=True)\n",
       ")"
      ]
     },
     "execution_count": 32,
     "metadata": {},
     "output_type": "execute_result"
    }
   ],
   "source": [
    "FILE = \"saved_model/model3.pth\"\n",
    "# torch.save(model.state_dict(), FILE)\n",
    "\n",
    "loaded_model = C_LSTM()\n",
    "loaded_model.load_state_dict(torch.load(FILE))\n",
    "loaded_model = loaded_model.to(device)\n",
    "loaded_model.eval()"
   ]
  },
  {
   "cell_type": "code",
   "execution_count": 33,
   "id": "078dc407",
   "metadata": {},
   "outputs": [
    {
     "name": "stdout",
     "output_type": "stream",
     "text": [
      "Valid Loss 0.003047904698178172, Valid Score 0.9966442953020134\n",
      "Test Loss 0.0012379365507513285, Test Score 0.9945578231292517\n"
     ]
    },
    {
     "data": {
      "image/png": "[encoded data removed]",
      "text/plain": [
       "<Figure size 1440x504 with 2 Axes>"
      ]
     },
     "metadata": {
      "needs_background": "light"
     },
     "output_type": "display_data"
    },
    {
     "data": {
      "image/png": "[encoded data removed]",
      "text/plain": [
       "<Figure size 1440x504 with 2 Axes>"
      ]
     },
     "metadata": {
      "needs_background": "light"
     },
     "output_type": "display_data"
    }
   ],
   "source": [
    "l, score = valid_epoch(loaded_model,device,valid_DataLoader,loss)\n",
    "l_test, score_test = valid_epoch(loaded_model,device,test_DataLoader,loss)\n",
    "print(f'Valid Loss {l}, Valid Score {score}')\n",
    "print(f'Test Loss {l_test}, Test Score {score_test}')"
   ]
  },
  {
   "cell_type": "code",
   "execution_count": null,
   "id": "a6807a33",
   "metadata": {},
   "outputs": [],
   "source": []
  },
  {
   "cell_type": "code",
   "execution_count": null,
   "id": "d1522a2b",
   "metadata": {},
   "outputs": [],
   "source": []
  },
  {
   "cell_type": "code",
   "execution_count": null,
   "id": "8375bf76",
   "metadata": {},
   "outputs": [],
   "source": []
  }
 ],
 "metadata": {
  "kernelspec": {
   "display_name": "Python 3 (ipykernel)",
   "language": "python",
   "name": "python3"
  },
  "language_info": {
   "codemirror_mode": {
    "name": "ipython",
    "version": 3
   },
   "file_extension": ".py",
   "mimetype": "text/x-python",
   "name": "python",
   "nbconvert_exporter": "python",
   "pygments_lexer": "ipython3",
   "version": "3.9.0"
  }
 },
 "nbformat": 4,
 "nbformat_minor": 5
}
